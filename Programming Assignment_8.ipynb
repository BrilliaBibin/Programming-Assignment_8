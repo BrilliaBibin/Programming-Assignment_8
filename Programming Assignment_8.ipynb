{
 "cells": [
  {
   "cell_type": "raw",
   "id": "1d1abc09-0885-4664-b2cd-c2b28667366c",
   "metadata": {},
   "source": [
    "1. Write a Python Program to Add Two Matrices?"
   ]
  },
  {
   "cell_type": "code",
   "execution_count": 2,
   "id": "dc1ab7e9-dcca-4489-8418-4e2a8a85d336",
   "metadata": {},
   "outputs": [
    {
     "name": "stdout",
     "output_type": "stream",
     "text": [
      "[20, 30, 10]\n",
      "[50, 20, 10]\n",
      "[10, 40, 20]\n"
     ]
    }
   ],
   "source": [
    "X = [[1,2,3],\n",
    "\t[4 ,5,6],\n",
    "\t[7 ,8,9]]\n",
    "\n",
    "Y = [[19,28,7],\n",
    "\t[46,15,4],\n",
    "\t[3,32,11]]\n",
    "\n",
    "result = [[X[i][j] + Y[i][j] for j in range\n",
    "(len(X[0]))] for i in range(len(X))]\n",
    "\n",
    "for r in result:\n",
    "\tprint(r)\n"
   ]
  },
  {
   "cell_type": "raw",
   "id": "c25a5ea6-1269-48b1-9e8d-cdaa4e0c1047",
   "metadata": {},
   "source": [
    "2. Write a Python Program to Multiply Two Matrices?"
   ]
  },
  {
   "cell_type": "code",
   "execution_count": 3,
   "id": "69a4c02c-7e1b-47bd-9730-c8d4f2235f0f",
   "metadata": {},
   "outputs": [
    {
     "name": "stdout",
     "output_type": "stream",
     "text": [
      "[114, 160, 60, 27]\n",
      "[74, 97, 73, 14]\n",
      "[119, 157, 112, 23]\n"
     ]
    }
   ],
   "source": [
    "A = [[12, 7, 3],\n",
    "\t[4, 5, 6],\n",
    "\t[7, 8, 9]]\n",
    "\n",
    "B = [[5, 8, 1, 2],\n",
    "\t[6, 7, 3, 0],\n",
    "\t[4, 5, 9, 1]]\n",
    "\t\n",
    "result = [[0, 0, 0, 0],\n",
    "\t\t[0, 0, 0, 0],\n",
    "\t\t[0, 0, 0, 0]]\n",
    "\n",
    "for i in range(len(A)):\n",
    "\n",
    "\tfor j in range(len(B[0])):\n",
    "\n",
    "\t\tfor k in range(len(B)):\n",
    "\t\t\tresult[i][j] += A[i][k] * B[k][j]\n",
    "\n",
    "for r in result:\n",
    "\tprint(r)\n"
   ]
  },
  {
   "cell_type": "raw",
   "id": "8e850f98-2df6-4c00-a237-b2e360ffc2ae",
   "metadata": {},
   "source": [
    "3. Write a Python Program to Transpose a Matrix?"
   ]
  },
  {
   "cell_type": "code",
   "execution_count": 9,
   "id": "c965d296-d034-416e-9b0b-7613bcbf8197",
   "metadata": {},
   "outputs": [
    {
     "name": "stdout",
     "output_type": "stream",
     "text": [
      "[12, 4, 3]\n",
      "[7, 5, 8]\n"
     ]
    }
   ],
   "source": [
    "X = [[12,7],\n",
    "    [4 ,5],\n",
    "    [3 ,8]]\n",
    "\n",
    "result = [[X[j][i] for j in range(len(X))] for i in range(len(X[0]))]\n",
    "\n",
    "for r in result:\n",
    "   print(r)"
   ]
  },
  {
   "cell_type": "raw",
   "id": "7c80b60f-b14c-4393-89be-ad5ec1ebb690",
   "metadata": {},
   "source": [
    "4. Write a Python Program to Sort Words in Alphabetic Order?"
   ]
  },
  {
   "cell_type": "code",
   "execution_count": 11,
   "id": "557414ec-061f-4395-b2a3-a0fb656e4347",
   "metadata": {},
   "outputs": [
    {
     "name": "stdout",
     "output_type": "stream",
     "text": [
      "health is wealth\n"
     ]
    }
   ],
   "source": [
    "def F(S):\n",
    "\tW = S.split(\" \")\n",
    "\tfor i in range(len(W)):\n",
    "\t\tW[i] = W[i].lower()\n",
    "\tW.sort()\n",
    "\n",
    "\treturn ' '.join(W)\n",
    "\n",
    "S = \"Health IS Wealth\"\n",
    "print(F(S))\n"
   ]
  },
  {
   "cell_type": "raw",
   "id": "51eda83f-eb51-4058-a9f3-d383e0318306",
   "metadata": {},
   "source": [
    "5. Write a Python Program to Remove Punctuation From a String?"
   ]
  },
  {
   "cell_type": "code",
   "execution_count": 13,
   "id": "e6220ed4-3950-405e-86b1-05aafecc0474",
   "metadata": {},
   "outputs": [
    {
     "name": "stdout",
     "output_type": "stream",
     "text": [
      "The original string is : What a beautiful flower this is! 'Rose':\n",
      "The string after punctuation filter : What a beautiful flower this is Rose\n"
     ]
    }
   ],
   "source": [
    "test_str = \"What a beautiful flower this is! 'Rose':\"\n",
    "\n",
    "print(\"The original string is : \" + test_str)\n",
    "\n",
    "punc = '''!()-[]{};:'\"\\,<>./?@#$%^&*_~'''\n",
    "\n",
    "for ele in test_str:\n",
    "\tif ele in punc:\n",
    "\t\ttest_str = test_str.replace(ele, \"\")\n",
    "\n",
    "print(\"The string after punctuation filter : \" + test_str)\n"
   ]
  }
 ],
 "metadata": {
  "kernelspec": {
   "display_name": "Python 3 (ipykernel)",
   "language": "python",
   "name": "python3"
  },
  "language_info": {
   "codemirror_mode": {
    "name": "ipython",
    "version": 3
   },
   "file_extension": ".py",
   "mimetype": "text/x-python",
   "name": "python",
   "nbconvert_exporter": "python",
   "pygments_lexer": "ipython3",
   "version": "3.10.6"
  }
 },
 "nbformat": 4,
 "nbformat_minor": 5
}
